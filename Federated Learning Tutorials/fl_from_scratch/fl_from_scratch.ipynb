{
  "nbformat": 4,
  "nbformat_minor": 0,
  "metadata": {
    "colab": {
      "provenance": [],
      "gpuType": "T4"
    },
    "kernelspec": {
      "name": "python3",
      "display_name": "Python 3"
    },
    "language_info": {
      "name": "python"
    },
    "accelerator": "GPU"
  },
  "cells": [
    {
      "cell_type": "code",
      "execution_count": 1,
      "metadata": {
        "id": "xvQMIbp8L9Et"
      },
      "outputs": [],
      "source": [
        "import torch\n",
        "from torchvision.datasets import MNIST\n",
        "from torch.utils.data import random_split, DataLoader\n",
        "import torchvision.transforms as transforms\n",
        "import matplotlib.pyplot as plt\n",
        "\n",
        "%matplotlib inline\n",
        "plt.rcParams['figure.figsize'] = [5, 5]"
      ]
    },
    {
      "cell_type": "code",
      "source": [
        "train_dataset = MNIST('/train', train=True, download=True, transform=transforms.ToTensor())\n",
        "test_dataset = MNIST('/test', train=False, download=True, transform=transforms.ToTensor())\n",
        "\n",
        "train_dataset, dev_dataset = random_split(train_dataset, [int(len(train_dataset) * 0.83), int(len(train_dataset) * 0.17)])"
      ],
      "metadata": {
        "id": "LDvmYD6wL91W",
        "colab": {
          "base_uri": "https://localhost:8080/"
        },
        "outputId": "368e0f01-3e85-4f99-f15f-888b22ba821a"
      },
      "execution_count": 2,
      "outputs": [
        {
          "output_type": "stream",
          "name": "stdout",
          "text": [
            "Downloading http://yann.lecun.com/exdb/mnist/train-images-idx3-ubyte.gz\n",
            "Failed to download (trying next):\n",
            "HTTP Error 403: Forbidden\n",
            "\n",
            "Downloading https://ossci-datasets.s3.amazonaws.com/mnist/train-images-idx3-ubyte.gz\n",
            "Downloading https://ossci-datasets.s3.amazonaws.com/mnist/train-images-idx3-ubyte.gz to /train/MNIST/raw/train-images-idx3-ubyte.gz\n"
          ]
        },
        {
          "output_type": "stream",
          "name": "stderr",
          "text": [
            "100%|██████████| 9.91M/9.91M [00:10<00:00, 907kB/s] \n"
          ]
        },
        {
          "output_type": "stream",
          "name": "stdout",
          "text": [
            "Extracting /train/MNIST/raw/train-images-idx3-ubyte.gz to /train/MNIST/raw\n",
            "\n",
            "Downloading http://yann.lecun.com/exdb/mnist/train-labels-idx1-ubyte.gz\n",
            "Failed to download (trying next):\n",
            "HTTP Error 403: Forbidden\n",
            "\n",
            "Downloading https://ossci-datasets.s3.amazonaws.com/mnist/train-labels-idx1-ubyte.gz\n",
            "Downloading https://ossci-datasets.s3.amazonaws.com/mnist/train-labels-idx1-ubyte.gz to /train/MNIST/raw/train-labels-idx1-ubyte.gz\n"
          ]
        },
        {
          "output_type": "stream",
          "name": "stderr",
          "text": [
            "100%|██████████| 28.9k/28.9k [00:00<00:00, 133kB/s]\n"
          ]
        },
        {
          "output_type": "stream",
          "name": "stdout",
          "text": [
            "Extracting /train/MNIST/raw/train-labels-idx1-ubyte.gz to /train/MNIST/raw\n",
            "\n",
            "Downloading http://yann.lecun.com/exdb/mnist/t10k-images-idx3-ubyte.gz\n",
            "Failed to download (trying next):\n",
            "HTTP Error 403: Forbidden\n",
            "\n",
            "Downloading https://ossci-datasets.s3.amazonaws.com/mnist/t10k-images-idx3-ubyte.gz\n",
            "Downloading https://ossci-datasets.s3.amazonaws.com/mnist/t10k-images-idx3-ubyte.gz to /train/MNIST/raw/t10k-images-idx3-ubyte.gz\n"
          ]
        },
        {
          "output_type": "stream",
          "name": "stderr",
          "text": [
            "100%|██████████| 1.65M/1.65M [00:06<00:00, 243kB/s]\n"
          ]
        },
        {
          "output_type": "stream",
          "name": "stdout",
          "text": [
            "Extracting /train/MNIST/raw/t10k-images-idx3-ubyte.gz to /train/MNIST/raw\n",
            "\n",
            "Downloading http://yann.lecun.com/exdb/mnist/t10k-labels-idx1-ubyte.gz\n",
            "Failed to download (trying next):\n",
            "HTTP Error 403: Forbidden\n",
            "\n",
            "Downloading https://ossci-datasets.s3.amazonaws.com/mnist/t10k-labels-idx1-ubyte.gz\n",
            "Downloading https://ossci-datasets.s3.amazonaws.com/mnist/t10k-labels-idx1-ubyte.gz to /train/MNIST/raw/t10k-labels-idx1-ubyte.gz\n"
          ]
        },
        {
          "output_type": "stream",
          "name": "stderr",
          "text": [
            "100%|██████████| 4.54k/4.54k [00:00<00:00, 5.10MB/s]\n"
          ]
        },
        {
          "output_type": "stream",
          "name": "stdout",
          "text": [
            "Extracting /train/MNIST/raw/t10k-labels-idx1-ubyte.gz to /train/MNIST/raw\n",
            "\n",
            "Downloading http://yann.lecun.com/exdb/mnist/train-images-idx3-ubyte.gz\n",
            "Failed to download (trying next):\n",
            "HTTP Error 403: Forbidden\n",
            "\n",
            "Downloading https://ossci-datasets.s3.amazonaws.com/mnist/train-images-idx3-ubyte.gz\n",
            "Downloading https://ossci-datasets.s3.amazonaws.com/mnist/train-images-idx3-ubyte.gz to /test/MNIST/raw/train-images-idx3-ubyte.gz\n"
          ]
        },
        {
          "output_type": "stream",
          "name": "stderr",
          "text": [
            "100%|██████████| 9.91M/9.91M [00:11<00:00, 899kB/s] \n"
          ]
        },
        {
          "output_type": "stream",
          "name": "stdout",
          "text": [
            "Extracting /test/MNIST/raw/train-images-idx3-ubyte.gz to /test/MNIST/raw\n",
            "\n",
            "Downloading http://yann.lecun.com/exdb/mnist/train-labels-idx1-ubyte.gz\n",
            "Failed to download (trying next):\n",
            "HTTP Error 403: Forbidden\n",
            "\n",
            "Downloading https://ossci-datasets.s3.amazonaws.com/mnist/train-labels-idx1-ubyte.gz\n",
            "Downloading https://ossci-datasets.s3.amazonaws.com/mnist/train-labels-idx1-ubyte.gz to /test/MNIST/raw/train-labels-idx1-ubyte.gz\n"
          ]
        },
        {
          "output_type": "stream",
          "name": "stderr",
          "text": [
            "100%|██████████| 28.9k/28.9k [00:00<00:00, 133kB/s]\n"
          ]
        },
        {
          "output_type": "stream",
          "name": "stdout",
          "text": [
            "Extracting /test/MNIST/raw/train-labels-idx1-ubyte.gz to /test/MNIST/raw\n",
            "\n",
            "Downloading http://yann.lecun.com/exdb/mnist/t10k-images-idx3-ubyte.gz\n",
            "Failed to download (trying next):\n",
            "HTTP Error 403: Forbidden\n",
            "\n",
            "Downloading https://ossci-datasets.s3.amazonaws.com/mnist/t10k-images-idx3-ubyte.gz\n",
            "Downloading https://ossci-datasets.s3.amazonaws.com/mnist/t10k-images-idx3-ubyte.gz to /test/MNIST/raw/t10k-images-idx3-ubyte.gz\n"
          ]
        },
        {
          "output_type": "stream",
          "name": "stderr",
          "text": [
            "100%|██████████| 1.65M/1.65M [00:06<00:00, 245kB/s]\n"
          ]
        },
        {
          "output_type": "stream",
          "name": "stdout",
          "text": [
            "Extracting /test/MNIST/raw/t10k-images-idx3-ubyte.gz to /test/MNIST/raw\n",
            "\n",
            "Downloading http://yann.lecun.com/exdb/mnist/t10k-labels-idx1-ubyte.gz\n",
            "Failed to download (trying next):\n",
            "HTTP Error 403: Forbidden\n",
            "\n",
            "Downloading https://ossci-datasets.s3.amazonaws.com/mnist/t10k-labels-idx1-ubyte.gz\n",
            "Downloading https://ossci-datasets.s3.amazonaws.com/mnist/t10k-labels-idx1-ubyte.gz to /test/MNIST/raw/t10k-labels-idx1-ubyte.gz\n"
          ]
        },
        {
          "output_type": "stream",
          "name": "stderr",
          "text": [
            "100%|██████████| 4.54k/4.54k [00:00<00:00, 9.32MB/s]"
          ]
        },
        {
          "output_type": "stream",
          "name": "stdout",
          "text": [
            "Extracting /test/MNIST/raw/t10k-labels-idx1-ubyte.gz to /test/MNIST/raw\n",
            "\n"
          ]
        },
        {
          "output_type": "stream",
          "name": "stderr",
          "text": [
            "\n"
          ]
        }
      ]
    },
    {
      "cell_type": "code",
      "source": [
        "# Define Notebook Constants\n",
        "\n",
        "total_train_size = len(train_dataset)\n",
        "total_test_size = len(test_dataset)\n",
        "total_dev_size = len(dev_dataset)\n",
        "\n",
        "classes = 10\n",
        "input_dim = 784\n",
        "\n",
        "num_clients = 8\n",
        "rounds = 30\n",
        "batch_size = 128\n",
        "epochs_per_client = 3\n",
        "learning_rate = 2e-2"
      ],
      "metadata": {
        "id": "wrO-EXIMMEqe"
      },
      "execution_count": 3,
      "outputs": []
    },
    {
      "cell_type": "code",
      "source": [
        "total_train_size, total_dev_size, total_test_size"
      ],
      "metadata": {
        "colab": {
          "base_uri": "https://localhost:8080/"
        },
        "id": "YgLpdn98Nrh1",
        "outputId": "f53e8bd5-0293-40b9-a609-73dda069e618"
      },
      "execution_count": 4,
      "outputs": [
        {
          "output_type": "execute_result",
          "data": {
            "text/plain": [
              "(49800, 10200, 10000)"
            ]
          },
          "metadata": {},
          "execution_count": 4
        }
      ]
    },
    {
      "cell_type": "code",
      "source": [
        "# Define utilities for GPU support\n",
        "\n",
        "def get_device():\n",
        "    return torch.device('cuda') if torch.cuda.is_available() else torch.device('cpu')\n",
        "\n",
        "def to_device(data, device):\n",
        "    if isinstance(data, (list, tuple)):\n",
        "        return [to_device(x, device) for x in data]\n",
        "    return data.to(device, non_blocking=True)\n",
        "\n",
        "class DeviceDataLoader(DataLoader):\n",
        "        def __init__(self, dl, device):\n",
        "            self.dl = dl\n",
        "            self.device = device\n",
        "\n",
        "        def __iter__(self):\n",
        "            for batch in self.dl:\n",
        "                yield to_device(batch, self.device)\n",
        "\n",
        "        def __len__(self):\n",
        "            return len(self.dl)\n",
        "\n",
        "device = get_device()"
      ],
      "metadata": {
        "id": "ee00yJ0FNvwY"
      },
      "execution_count": 5,
      "outputs": []
    },
    {
      "cell_type": "code",
      "source": [
        "device"
      ],
      "metadata": {
        "colab": {
          "base_uri": "https://localhost:8080/"
        },
        "id": "KOQO0PQDN9Kb",
        "outputId": "aaebbcd0-0a39-440b-eeeb-0debbe814cc0"
      },
      "execution_count": 6,
      "outputs": [
        {
          "output_type": "execute_result",
          "data": {
            "text/plain": [
              "device(type='cuda')"
            ]
          },
          "metadata": {},
          "execution_count": 6
        }
      ]
    },
    {
      "cell_type": "code",
      "source": [
        "# Define FederatedNet class\n",
        "class FederatedNet(torch.nn.Module):\n",
        "    def __init__(self):\n",
        "        super().__init__()\n",
        "        self.conv1 = torch.nn.Conv2d(1, 20, 7)\n",
        "        self.conv2 = torch.nn.Conv2d(20, 40, 7)\n",
        "        self.maxpool = torch.nn.MaxPool2d(2, 2)\n",
        "        self.flatten = torch.nn.Flatten()\n",
        "        self.linear = torch.nn.Linear(2560, 10)\n",
        "        self.non_linearity = torch.nn.functional.relu\n",
        "        self.track_layers = {'conv1': self.conv1, 'conv2': self.conv2, 'linear': self.linear}\n",
        "\n",
        "    def forward(self, x_batch):\n",
        "        out = self.conv1(x_batch)\n",
        "        out = self.non_linearity(out)\n",
        "        out = self.conv2(out)\n",
        "        out = self.non_linearity(out)\n",
        "        out = self.maxpool(out)\n",
        "        out = self.flatten(out)\n",
        "        out = self.linear(out)\n",
        "        return out\n",
        "\n",
        "    def get_track_layers(self):\n",
        "        return self.track_layers\n",
        "\n",
        "    def apply_parameters(self, parameters_dict):\n",
        "        with torch.no_grad():\n",
        "            for layer_name in parameters_dict:\n",
        "                self.track_layers[layer_name].weight.data *= 0\n",
        "                self.track_layers[layer_name].bias.data *= 0\n",
        "                self.track_layers[layer_name].weight.data += parameters_dict[layer_name]['weight']\n",
        "                self.track_layers[layer_name].bias.data += parameters_dict[layer_name]['bias']\n",
        "\n",
        "    def get_parameters(self):\n",
        "        parameters_dict = dict()\n",
        "        for layer_name in self.track_layers:\n",
        "            parameters_dict[layer_name] = {\n",
        "                'weight': self.track_layers[layer_name].weight.data,\n",
        "                'bias': self.track_layers[layer_name].bias.data\n",
        "            }\n",
        "        return parameters_dict\n",
        "\n",
        "    def batch_accuracy(self, outputs, labels):\n",
        "        with torch.no_grad():\n",
        "            _, predictions = torch.max(outputs, dim=1)\n",
        "            return torch.tensor(torch.sum(predictions == labels).item() / len(predictions))\n",
        "\n",
        "    def _process_batch(self, batch):\n",
        "        images, labels = batch\n",
        "        outputs = self(images)\n",
        "        loss = torch.nn.functional.cross_entropy(outputs, labels)\n",
        "        accuracy = self.batch_accuracy(outputs, labels)\n",
        "        return (loss, accuracy)\n",
        "\n",
        "    def fit(self, dataset, epochs, lr, batch_size=128, opt=torch.optim.SGD):\n",
        "        dataloader = DeviceDataLoader(DataLoader(dataset, batch_size, shuffle=True), device)\n",
        "        optimizer = opt(self.parameters(), lr)\n",
        "        history = []\n",
        "        for epoch in range(epochs):\n",
        "            losses = []\n",
        "            accs = []\n",
        "            for batch in dataloader:\n",
        "                loss, acc = self._process_batch(batch)\n",
        "                loss.backward()\n",
        "                optimizer.step()\n",
        "                optimizer.zero_grad()\n",
        "                loss.detach()\n",
        "                losses.append(loss)\n",
        "                accs.append(acc)\n",
        "            avg_loss = torch.stack(losses).mean().item()\n",
        "            avg_acc = torch.stack(accs).mean().item()\n",
        "            history.append((avg_loss, avg_acc))\n",
        "        return history\n",
        "\n",
        "    def evaluate(self, dataset, batch_size=128):\n",
        "        dataloader = DeviceDataLoader(DataLoader(dataset, batch_size), device)\n",
        "        losses = []\n",
        "        accs = []\n",
        "        with torch.no_grad():\n",
        "            for batch in dataloader:\n",
        "                loss, acc = self._process_batch(batch)\n",
        "                losses.append(loss)\n",
        "                accs.append(acc)\n",
        "        avg_loss = torch.stack(losses).mean().item()\n",
        "        avg_acc = torch.stack(accs).mean().item()\n",
        "        return (avg_loss, avg_acc)"
      ],
      "metadata": {
        "id": "AAEYjJWROCS7"
      },
      "execution_count": 7,
      "outputs": []
    },
    {
      "cell_type": "code",
      "source": [
        "# Define Client class\n",
        "class Client:\n",
        "    def __init__(self, client_id, dataset):\n",
        "        self.client_id = client_id\n",
        "        self.dataset = dataset\n",
        "\n",
        "    def get_dataset_size(self):\n",
        "        return len(self.dataset)\n",
        "\n",
        "    def get_client_id(self):\n",
        "        return self.client_id\n",
        "\n",
        "    def train(self, parameters_dict):\n",
        "        net = to_device(FederatedNet(), device)\n",
        "        net.apply_parameters(parameters_dict)\n",
        "        train_history = net.fit(self.dataset, epochs_per_client, learning_rate, batch_size)\n",
        "        print('{}: Loss = {}, Accuracy = {}'.format(self.client_id, round(train_history[-1][0], 4), round(train_history[-1][1], 4)))\n",
        "        return net.get_parameters()"
      ],
      "metadata": {
        "id": "sDqwC2IROMGk"
      },
      "execution_count": 8,
      "outputs": []
    },
    {
      "cell_type": "code",
      "source": [
        "# Setup clients\n",
        "\n",
        "examples_per_client = total_train_size // num_clients\n",
        "client_datasets = random_split(train_dataset, [min(i + examples_per_client,\n",
        "           total_train_size) - i for i in range(0, total_train_size, examples_per_client)])\n",
        "clients = [Client('client_' + str(i), client_datasets[i]) for i in range(num_clients)]"
      ],
      "metadata": {
        "id": "i5kP7CNWOT7U"
      },
      "execution_count": 9,
      "outputs": []
    },
    {
      "cell_type": "code",
      "source": [
        "# Start server\n",
        "\n",
        "global_net = to_device(FederatedNet(), device)\n",
        "history = []\n",
        "for i in range(rounds):\n",
        "    print('Start Round {} ...'.format(i + 1))\n",
        "    curr_parameters = global_net.get_parameters()\n",
        "    new_parameters = dict([(layer_name, {'weight': 0, 'bias': 0}) for layer_name in curr_parameters])\n",
        "    for client in clients:\n",
        "        client_parameters = client.train(curr_parameters)\n",
        "        fraction = client.get_dataset_size() / total_train_size\n",
        "        for layer_name in client_parameters:\n",
        "            new_parameters[layer_name]['weight'] += fraction * client_parameters[layer_name]['weight']\n",
        "            new_parameters[layer_name]['bias'] += fraction * client_parameters[layer_name]['bias']\n",
        "    global_net.apply_parameters(new_parameters)\n",
        "\n",
        "    train_loss, train_acc = global_net.evaluate(train_dataset)\n",
        "    dev_loss, dev_acc = global_net.evaluate(dev_dataset)\n",
        "    print('After round {}, train_loss = {}, dev_loss = {}, dev_acc = {}\\n'.format(i + 1, round(train_loss, 4),\n",
        "            round(dev_loss, 4), round(dev_acc, 4)))\n",
        "    history.append((train_loss, dev_loss))"
      ],
      "metadata": {
        "colab": {
          "base_uri": "https://localhost:8080/"
        },
        "id": "nEb4DZ4dOXjw",
        "outputId": "935851cc-9857-40eb-f640-6130812e98aa"
      },
      "execution_count": 10,
      "outputs": [
        {
          "output_type": "stream",
          "name": "stdout",
          "text": [
            "Start Round 1 ...\n",
            "client_0: Loss = 0.4363, Accuracy = 0.8685\n",
            "client_1: Loss = 0.4607, Accuracy = 0.8621\n",
            "client_2: Loss = 0.4461, Accuracy = 0.8648\n",
            "client_3: Loss = 0.4459, Accuracy = 0.8662\n",
            "client_4: Loss = 0.4464, Accuracy = 0.8661\n",
            "client_5: Loss = 0.4676, Accuracy = 0.8615\n",
            "client_6: Loss = 0.4405, Accuracy = 0.8689\n",
            "client_7: Loss = 0.448, Accuracy = 0.8634\n",
            "After round 1, train_loss = 0.3838, dev_loss = 0.3857, dev_acc = 0.8901\n",
            "\n",
            "Start Round 2 ...\n",
            "client_0: Loss = 0.2801, Accuracy = 0.9177\n",
            "client_1: Loss = 0.2971, Accuracy = 0.9133\n",
            "client_2: Loss = 0.2866, Accuracy = 0.9161\n",
            "client_3: Loss = 0.2885, Accuracy = 0.916\n",
            "client_4: Loss = 0.2865, Accuracy = 0.9163\n",
            "client_5: Loss = 0.2884, Accuracy = 0.9182\n",
            "client_6: Loss = 0.2902, Accuracy = 0.9151\n",
            "client_7: Loss = 0.2893, Accuracy = 0.917\n",
            "After round 2, train_loss = 0.265, dev_loss = 0.2681, dev_acc = 0.924\n",
            "\n",
            "Start Round 3 ...\n",
            "client_0: Loss = 0.2069, Accuracy = 0.9397\n",
            "client_1: Loss = 0.2184, Accuracy = 0.9407\n",
            "client_2: Loss = 0.2076, Accuracy = 0.9408\n",
            "client_3: Loss = 0.2116, Accuracy = 0.9389\n",
            "client_4: Loss = 0.2038, Accuracy = 0.9406\n",
            "client_5: Loss = 0.2135, Accuracy = 0.9405\n",
            "client_6: Loss = 0.2119, Accuracy = 0.9389\n",
            "client_7: Loss = 0.2131, Accuracy = 0.9373\n",
            "After round 3, train_loss = 0.1992, dev_loss = 0.2033, dev_acc = 0.9418\n",
            "\n",
            "Start Round 4 ...\n",
            "client_0: Loss = 0.1683, Accuracy = 0.9518\n",
            "client_1: Loss = 0.1752, Accuracy = 0.9512\n",
            "client_2: Loss = 0.1633, Accuracy = 0.9529\n",
            "client_3: Loss = 0.1688, Accuracy = 0.9492\n",
            "client_4: Loss = 0.1581, Accuracy = 0.9547\n",
            "client_5: Loss = 0.1716, Accuracy = 0.952\n",
            "client_6: Loss = 0.1673, Accuracy = 0.9508\n",
            "client_7: Loss = 0.1674, Accuracy = 0.9532\n",
            "After round 4, train_loss = 0.161, dev_loss = 0.1649, dev_acc = 0.9518\n",
            "\n",
            "Start Round 5 ...\n",
            "client_0: Loss = 0.138, Accuracy = 0.9616\n",
            "client_1: Loss = 0.1452, Accuracy = 0.9598\n",
            "client_2: Loss = 0.1375, Accuracy = 0.9609\n",
            "client_3: Loss = 0.1377, Accuracy = 0.9582\n",
            "client_4: Loss = 0.1287, Accuracy = 0.9638\n",
            "client_5: Loss = 0.1436, Accuracy = 0.963\n",
            "client_6: Loss = 0.1374, Accuracy = 0.9595\n",
            "client_7: Loss = 0.1381, Accuracy = 0.9579\n",
            "After round 5, train_loss = 0.1354, dev_loss = 0.1391, dev_acc = 0.9599\n",
            "\n",
            "Start Round 6 ...\n",
            "client_0: Loss = 0.1208, Accuracy = 0.9649\n",
            "client_1: Loss = 0.1249, Accuracy = 0.9649\n",
            "client_2: Loss = 0.1191, Accuracy = 0.9649\n",
            "client_3: Loss = 0.1203, Accuracy = 0.9627\n",
            "client_4: Loss = 0.1099, Accuracy = 0.9681\n",
            "client_5: Loss = 0.1265, Accuracy = 0.9679\n",
            "client_6: Loss = 0.1172, Accuracy = 0.9684\n",
            "client_7: Loss = 0.1173, Accuracy = 0.9642\n",
            "After round 6, train_loss = 0.1189, dev_loss = 0.1224, dev_acc = 0.9646\n",
            "\n",
            "Start Round 7 ...\n",
            "client_0: Loss = 0.1079, Accuracy = 0.9694\n",
            "client_1: Loss = 0.1098, Accuracy = 0.9693\n",
            "client_2: Loss = 0.1058, Accuracy = 0.9698\n",
            "client_3: Loss = 0.1054, Accuracy = 0.9669\n",
            "client_4: Loss = 0.0954, Accuracy = 0.972\n",
            "client_5: Loss = 0.1122, Accuracy = 0.971\n",
            "client_6: Loss = 0.1052, Accuracy = 0.9696\n",
            "client_7: Loss = 0.1024, Accuracy = 0.9681\n",
            "After round 7, train_loss = 0.1049, dev_loss = 0.1087, dev_acc = 0.9695\n",
            "\n",
            "Start Round 8 ...\n",
            "client_0: Loss = 0.0988, Accuracy = 0.9723\n",
            "client_1: Loss = 0.0989, Accuracy = 0.9715\n",
            "client_2: Loss = 0.0954, Accuracy = 0.9728\n",
            "client_3: Loss = 0.0958, Accuracy = 0.9699\n",
            "client_4: Loss = 0.0858, Accuracy = 0.9749\n",
            "client_5: Loss = 0.1028, Accuracy = 0.9727\n",
            "client_6: Loss = 0.0951, Accuracy = 0.9723\n",
            "client_7: Loss = 0.0914, Accuracy = 0.9731\n",
            "After round 8, train_loss = 0.0952, dev_loss = 0.0989, dev_acc = 0.9717\n",
            "\n",
            "Start Round 9 ...\n",
            "client_0: Loss = 0.0891, Accuracy = 0.9738\n",
            "client_1: Loss = 0.0873, Accuracy = 0.9746\n",
            "client_2: Loss = 0.0879, Accuracy = 0.9754\n",
            "client_3: Loss = 0.0879, Accuracy = 0.9733\n",
            "client_4: Loss = 0.0774, Accuracy = 0.978\n",
            "client_5: Loss = 0.0948, Accuracy = 0.9763\n",
            "client_6: Loss = 0.0865, Accuracy = 0.9746\n",
            "client_7: Loss = 0.083, Accuracy = 0.9759\n",
            "After round 9, train_loss = 0.0884, dev_loss = 0.0922, dev_acc = 0.9747\n",
            "\n",
            "Start Round 10 ...\n",
            "client_0: Loss = 0.0831, Accuracy = 0.9776\n",
            "client_1: Loss = 0.0826, Accuracy = 0.9751\n",
            "client_2: Loss = 0.083, Accuracy = 0.9757\n",
            "client_3: Loss = 0.0802, Accuracy = 0.9754\n",
            "client_4: Loss = 0.0687, Accuracy = 0.9802\n",
            "client_5: Loss = 0.0892, Accuracy = 0.9764\n",
            "client_6: Loss = 0.0803, Accuracy = 0.9772\n",
            "client_7: Loss = 0.0755, Accuracy = 0.9771\n",
            "After round 10, train_loss = 0.0817, dev_loss = 0.0859, dev_acc = 0.9747\n",
            "\n",
            "Start Round 11 ...\n",
            "client_0: Loss = 0.0779, Accuracy = 0.9764\n",
            "client_1: Loss = 0.0757, Accuracy = 0.978\n",
            "client_2: Loss = 0.0771, Accuracy = 0.977\n",
            "client_3: Loss = 0.0741, Accuracy = 0.977\n",
            "client_4: Loss = 0.0642, Accuracy = 0.9813\n",
            "client_5: Loss = 0.0835, Accuracy = 0.9774\n",
            "client_6: Loss = 0.0736, Accuracy = 0.9787\n",
            "client_7: Loss = 0.0726, Accuracy = 0.9773\n",
            "After round 11, train_loss = 0.0766, dev_loss = 0.0811, dev_acc = 0.9761\n",
            "\n",
            "Start Round 12 ...\n",
            "client_0: Loss = 0.0716, Accuracy = 0.9799\n",
            "client_1: Loss = 0.0701, Accuracy = 0.9792\n",
            "client_2: Loss = 0.0737, Accuracy = 0.9788\n",
            "client_3: Loss = 0.0715, Accuracy = 0.9791\n",
            "client_4: Loss = 0.0581, Accuracy = 0.9845\n",
            "client_5: Loss = 0.0776, Accuracy = 0.9799\n",
            "client_6: Loss = 0.0699, Accuracy = 0.9803\n",
            "client_7: Loss = 0.0653, Accuracy = 0.9809\n",
            "After round 12, train_loss = 0.0725, dev_loss = 0.0775, dev_acc = 0.977\n",
            "\n",
            "Start Round 13 ...\n",
            "client_0: Loss = 0.0685, Accuracy = 0.9797\n",
            "client_1: Loss = 0.0658, Accuracy = 0.9807\n",
            "client_2: Loss = 0.0712, Accuracy = 0.9797\n",
            "client_3: Loss = 0.0667, Accuracy = 0.979\n",
            "client_4: Loss = 0.0551, Accuracy = 0.9852\n",
            "client_5: Loss = 0.0749, Accuracy = 0.9803\n",
            "client_6: Loss = 0.0667, Accuracy = 0.9817\n",
            "client_7: Loss = 0.0608, Accuracy = 0.9826\n",
            "After round 13, train_loss = 0.0684, dev_loss = 0.0727, dev_acc = 0.9787\n",
            "\n",
            "Start Round 14 ...\n",
            "client_0: Loss = 0.066, Accuracy = 0.9802\n",
            "client_1: Loss = 0.063, Accuracy = 0.9806\n",
            "client_2: Loss = 0.0676, Accuracy = 0.9804\n",
            "client_3: Loss = 0.0634, Accuracy = 0.9809\n",
            "client_4: Loss = 0.052, Accuracy = 0.9859\n",
            "client_5: Loss = 0.0711, Accuracy = 0.9791\n",
            "client_6: Loss = 0.0619, Accuracy = 0.9825\n",
            "client_7: Loss = 0.0579, Accuracy = 0.982\n",
            "After round 14, train_loss = 0.0653, dev_loss = 0.0708, dev_acc = 0.9781\n",
            "\n",
            "Start Round 15 ...\n",
            "client_0: Loss = 0.0639, Accuracy = 0.9827\n",
            "client_1: Loss = 0.0589, Accuracy = 0.9828\n",
            "client_2: Loss = 0.0645, Accuracy = 0.9814\n",
            "client_3: Loss = 0.0597, Accuracy = 0.9827\n",
            "client_4: Loss = 0.0486, Accuracy = 0.986\n",
            "client_5: Loss = 0.068, Accuracy = 0.9817\n",
            "client_6: Loss = 0.0601, Accuracy = 0.9833\n",
            "client_7: Loss = 0.0544, Accuracy = 0.9836\n",
            "After round 15, train_loss = 0.0624, dev_loss = 0.0671, dev_acc = 0.9794\n",
            "\n",
            "Start Round 16 ...\n",
            "client_0: Loss = 0.0604, Accuracy = 0.9825\n",
            "client_1: Loss = 0.0566, Accuracy = 0.9836\n",
            "client_2: Loss = 0.06, Accuracy = 0.9825\n",
            "client_3: Loss = 0.0571, Accuracy = 0.9825\n",
            "client_4: Loss = 0.0461, Accuracy = 0.9868\n",
            "client_5: Loss = 0.0661, Accuracy = 0.9811\n",
            "client_6: Loss = 0.0571, Accuracy = 0.9843\n",
            "client_7: Loss = 0.0515, Accuracy = 0.9844\n",
            "After round 16, train_loss = 0.06, dev_loss = 0.0652, dev_acc = 0.9803\n",
            "\n",
            "Start Round 17 ...\n",
            "client_0: Loss = 0.0564, Accuracy = 0.9842\n",
            "client_1: Loss = 0.0555, Accuracy = 0.9835\n",
            "client_2: Loss = 0.0588, Accuracy = 0.9825\n",
            "client_3: Loss = 0.0544, Accuracy = 0.9831\n",
            "client_4: Loss = 0.0433, Accuracy = 0.9888\n",
            "client_5: Loss = 0.0639, Accuracy = 0.9825\n",
            "client_6: Loss = 0.0543, Accuracy = 0.9833\n",
            "client_7: Loss = 0.0495, Accuracy = 0.9863\n",
            "After round 17, train_loss = 0.0581, dev_loss = 0.0628, dev_acc = 0.9809\n",
            "\n",
            "Start Round 18 ...\n",
            "client_0: Loss = 0.0544, Accuracy = 0.9842\n",
            "client_1: Loss = 0.0513, Accuracy = 0.9856\n",
            "client_2: Loss = 0.0581, Accuracy = 0.9826\n",
            "client_3: Loss = 0.0537, Accuracy = 0.9828\n",
            "client_4: Loss = 0.0424, Accuracy = 0.9884\n",
            "client_5: Loss = 0.0615, Accuracy = 0.9837\n",
            "client_6: Loss = 0.0527, Accuracy = 0.9845\n",
            "client_7: Loss = 0.0467, Accuracy = 0.9863\n",
            "After round 18, train_loss = 0.0558, dev_loss = 0.0615, dev_acc = 0.981\n",
            "\n",
            "Start Round 19 ...\n",
            "client_0: Loss = 0.0529, Accuracy = 0.9843\n",
            "client_1: Loss = 0.0498, Accuracy = 0.9852\n",
            "client_2: Loss = 0.0559, Accuracy = 0.9835\n",
            "client_3: Loss = 0.0506, Accuracy = 0.9831\n",
            "client_4: Loss = 0.0401, Accuracy = 0.9892\n",
            "client_5: Loss = 0.058, Accuracy = 0.9842\n",
            "client_6: Loss = 0.051, Accuracy = 0.9854\n",
            "client_7: Loss = 0.0457, Accuracy = 0.9873\n",
            "After round 19, train_loss = 0.0539, dev_loss = 0.0597, dev_acc = 0.9815\n",
            "\n",
            "Start Round 20 ...\n",
            "client_0: Loss = 0.0513, Accuracy = 0.9853\n",
            "client_1: Loss = 0.048, Accuracy = 0.9856\n",
            "client_2: Loss = 0.053, Accuracy = 0.9843\n",
            "client_3: Loss = 0.0498, Accuracy = 0.9844\n",
            "client_4: Loss = 0.0397, Accuracy = 0.9882\n",
            "client_5: Loss = 0.0555, Accuracy = 0.9844\n",
            "client_6: Loss = 0.0502, Accuracy = 0.9859\n",
            "client_7: Loss = 0.0434, Accuracy = 0.988\n",
            "After round 20, train_loss = 0.0527, dev_loss = 0.0589, dev_acc = 0.9812\n",
            "\n",
            "Start Round 21 ...\n",
            "client_0: Loss = 0.0503, Accuracy = 0.9854\n",
            "client_1: Loss = 0.0466, Accuracy = 0.9866\n",
            "client_2: Loss = 0.0523, Accuracy = 0.9852\n",
            "client_3: Loss = 0.048, Accuracy = 0.985\n",
            "client_4: Loss = 0.0369, Accuracy = 0.9905\n",
            "client_5: Loss = 0.0538, Accuracy = 0.9854\n",
            "client_6: Loss = 0.0472, Accuracy = 0.9878\n",
            "client_7: Loss = 0.0418, Accuracy = 0.9887\n",
            "After round 21, train_loss = 0.0512, dev_loss = 0.0571, dev_acc = 0.9817\n",
            "\n",
            "Start Round 22 ...\n",
            "client_0: Loss = 0.0485, Accuracy = 0.9866\n",
            "client_1: Loss = 0.0444, Accuracy = 0.9876\n",
            "client_2: Loss = 0.0501, Accuracy = 0.9864\n",
            "client_3: Loss = 0.0454, Accuracy = 0.9857\n",
            "client_4: Loss = 0.0361, Accuracy = 0.9912\n",
            "client_5: Loss = 0.0542, Accuracy = 0.9842\n",
            "client_6: Loss = 0.0455, Accuracy = 0.9879\n",
            "client_7: Loss = 0.0413, Accuracy = 0.9873\n",
            "After round 22, train_loss = 0.0492, dev_loss = 0.0556, dev_acc = 0.9829\n",
            "\n",
            "Start Round 23 ...\n",
            "client_0: Loss = 0.0468, Accuracy = 0.9861\n",
            "client_1: Loss = 0.0435, Accuracy = 0.9859\n",
            "client_2: Loss = 0.0497, Accuracy = 0.9872\n",
            "client_3: Loss = 0.0453, Accuracy = 0.9871\n",
            "client_4: Loss = 0.0345, Accuracy = 0.992\n",
            "client_5: Loss = 0.0512, Accuracy = 0.9857\n",
            "client_6: Loss = 0.0439, Accuracy = 0.9875\n",
            "client_7: Loss = 0.0392, Accuracy = 0.9886\n",
            "After round 23, train_loss = 0.0482, dev_loss = 0.0549, dev_acc = 0.9823\n",
            "\n",
            "Start Round 24 ...\n",
            "client_0: Loss = 0.0453, Accuracy = 0.9869\n",
            "client_1: Loss = 0.0412, Accuracy = 0.9879\n",
            "client_2: Loss = 0.0481, Accuracy = 0.9859\n",
            "client_3: Loss = 0.0425, Accuracy = 0.9874\n",
            "client_4: Loss = 0.0333, Accuracy = 0.9918\n",
            "client_5: Loss = 0.0501, Accuracy = 0.9885\n",
            "client_6: Loss = 0.0424, Accuracy = 0.9889\n",
            "client_7: Loss = 0.0372, Accuracy = 0.9887\n",
            "After round 24, train_loss = 0.0466, dev_loss = 0.0531, dev_acc = 0.983\n",
            "\n",
            "Start Round 25 ...\n",
            "client_0: Loss = 0.0442, Accuracy = 0.9864\n",
            "client_1: Loss = 0.0406, Accuracy = 0.9886\n",
            "client_2: Loss = 0.0453, Accuracy = 0.9869\n",
            "client_3: Loss = 0.0425, Accuracy = 0.9877\n",
            "client_4: Loss = 0.0327, Accuracy = 0.9911\n",
            "client_5: Loss = 0.0476, Accuracy = 0.9863\n",
            "client_6: Loss = 0.0418, Accuracy = 0.9878\n",
            "client_7: Loss = 0.0373, Accuracy = 0.9892\n",
            "After round 25, train_loss = 0.0454, dev_loss = 0.052, dev_acc = 0.9838\n",
            "\n",
            "Start Round 26 ...\n",
            "client_0: Loss = 0.0434, Accuracy = 0.987\n",
            "client_1: Loss = 0.0385, Accuracy = 0.9891\n",
            "client_2: Loss = 0.0451, Accuracy = 0.9877\n",
            "client_3: Loss = 0.0398, Accuracy = 0.988\n",
            "client_4: Loss = 0.0304, Accuracy = 0.9933\n",
            "client_5: Loss = 0.0482, Accuracy = 0.9865\n",
            "client_6: Loss = 0.0393, Accuracy = 0.9896\n",
            "client_7: Loss = 0.0358, Accuracy = 0.9891\n",
            "After round 26, train_loss = 0.0444, dev_loss = 0.0512, dev_acc = 0.9836\n",
            "\n",
            "Start Round 27 ...\n",
            "client_0: Loss = 0.0413, Accuracy = 0.9885\n",
            "client_1: Loss = 0.038, Accuracy = 0.9895\n",
            "client_2: Loss = 0.0442, Accuracy = 0.9872\n",
            "client_3: Loss = 0.0387, Accuracy = 0.9882\n",
            "client_4: Loss = 0.0302, Accuracy = 0.9921\n",
            "client_5: Loss = 0.0459, Accuracy = 0.987\n",
            "client_6: Loss = 0.0398, Accuracy = 0.9898\n",
            "client_7: Loss = 0.0318, Accuracy = 0.9921\n",
            "After round 27, train_loss = 0.0434, dev_loss = 0.0508, dev_acc = 0.984\n",
            "\n",
            "Start Round 28 ...\n",
            "client_0: Loss = 0.041, Accuracy = 0.9883\n",
            "client_1: Loss = 0.0358, Accuracy = 0.9893\n",
            "client_2: Loss = 0.043, Accuracy = 0.9879\n",
            "client_3: Loss = 0.0378, Accuracy = 0.9883\n",
            "client_4: Loss = 0.0287, Accuracy = 0.9937\n",
            "client_5: Loss = 0.0448, Accuracy = 0.9875\n",
            "client_6: Loss = 0.0378, Accuracy = 0.9895\n",
            "client_7: Loss = 0.0326, Accuracy = 0.9898\n",
            "After round 28, train_loss = 0.0428, dev_loss = 0.0501, dev_acc = 0.9837\n",
            "\n",
            "Start Round 29 ...\n",
            "client_0: Loss = 0.0397, Accuracy = 0.9879\n",
            "client_1: Loss = 0.0357, Accuracy = 0.9902\n",
            "client_2: Loss = 0.0425, Accuracy = 0.988\n",
            "client_3: Loss = 0.0377, Accuracy = 0.9881\n",
            "client_4: Loss = 0.0285, Accuracy = 0.993\n",
            "client_5: Loss = 0.0432, Accuracy = 0.9876\n",
            "client_6: Loss = 0.0372, Accuracy = 0.9898\n",
            "client_7: Loss = 0.0315, Accuracy = 0.9911\n",
            "After round 29, train_loss = 0.0413, dev_loss = 0.0488, dev_acc = 0.9847\n",
            "\n",
            "Start Round 30 ...\n",
            "client_0: Loss = 0.04, Accuracy = 0.9879\n",
            "client_1: Loss = 0.0337, Accuracy = 0.9912\n",
            "client_2: Loss = 0.04, Accuracy = 0.9897\n",
            "client_3: Loss = 0.0348, Accuracy = 0.9903\n",
            "client_4: Loss = 0.0267, Accuracy = 0.994\n",
            "client_5: Loss = 0.0426, Accuracy = 0.9889\n",
            "client_6: Loss = 0.036, Accuracy = 0.9906\n",
            "client_7: Loss = 0.0306, Accuracy = 0.9925\n",
            "After round 30, train_loss = 0.0404, dev_loss = 0.0477, dev_acc = 0.9854\n",
            "\n"
          ]
        }
      ]
    },
    {
      "cell_type": "code",
      "source": [
        "plt.plot([i + 1 for i in range(len(history))], [history[i][0] for i in range(len(history))], color='r', label='train loss')\n",
        "plt.plot([i + 1 for i in range(len(history))], [history[i][1] for i in range(len(history))], color='b', label='dev loss')\n",
        "plt.legend()\n",
        "plt.title('Training history')\n",
        "plt.show()"
      ],
      "metadata": {
        "colab": {
          "base_uri": "https://localhost:8080/",
          "height": 468
        },
        "id": "pZP6zW8SOcB7",
        "outputId": "d4ed16bd-b722-4f1c-f464-0e3094045b89"
      },
      "execution_count": 11,
      "outputs": [
        {
          "output_type": "display_data",
          "data": {
            "text/plain": [
              "<Figure size 500x500 with 1 Axes>"
            ],
            "image/png": "[encoded data removed]"
          },
          "metadata": {}
        }
      ]
    }
  ]
}